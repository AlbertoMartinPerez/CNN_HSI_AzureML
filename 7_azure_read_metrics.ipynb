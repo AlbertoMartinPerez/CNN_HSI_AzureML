{
 "cells": [
  {
   "cell_type": "code",
   "execution_count": 1,
   "metadata": {},
   "outputs": [
    {
     "name": "stdout",
     "output_type": "stream",
     "text": [
      "Ready to use Azure ML 1.31.0 to work with ws_Machine_Learning\n"
     ]
    }
   ],
   "source": [
    "import azureml.core\r\n",
    "from azureml.core import Workspace\r\n",
    "\r\n",
    "# Load the workspace from the saved config file\r\n",
    "ws = Workspace.from_config()\r\n",
    "print('Ready to use Azure ML {} to work with {}'.format(azureml.core.VERSION, ws.name))\r\n"
   ]
  },
  {
   "cell_type": "code",
   "execution_count": null,
   "metadata": {},
   "outputs": [],
   "source": [
    "from azureml.core import Experiment, Run\r\n",
    "import pandas as pd\r\n",
    "\r\n",
    "\"\"\"\r\n",
    "Available experiments:\r\n",
    "- exp-2-PyTorch-2D-CNN-train_noCV\r\n",
    "- exp-2-PyTorch-2D-CNN-train_CV\r\n",
    "- exp-3-PyTorch-2D-CNN-train_CV\r\n",
    "- exp-3-PyTorch-2D-CNN-train_noCV\r\n",
    "- exp-4-PyTorch-2D-CNN-train_CV\r\n",
    "- exp-4-PyTorch-2D-CNN-train_noCV\r\n",
    "\"\"\"\r\n",
    "# Load experiment\r\n",
    "experiment = Experiment(ws, name='exp-2-PyTorch-2D-CNN-train_noCV')\r\n",
    "\r\n",
    "# Get all runs in the experiment and get their metrics (only if they are completed)\r\n",
    "for r in list(experiment.get_runs()):\r\n",
    "\r\n",
    "    # Get the run by using the Workspace and the run id (only if the run is completed)\r\n",
    "    if(r.status == 'Completed'):\r\n",
    "        run = Run.get(ws, run_id=r.id)\r\n",
    "\r\n",
    "        # Get all metrics from the run\r\n",
    "        metrics = run.get_metrics()\r\n",
    "        print(metrics['Time training CNN'])\r\n",
    "        # print(metric_name, \":\", metrics[metric_name])\r\n",
    "        \"\"\"\r\n",
    "        Available metrics:\r\n",
    "        - Patients used for training\r\n",
    "        - Patients used for testing\r\n",
    "        - Batch dimensions\r\n",
    "        - Number of epochs\r\n",
    "        - Batch size\r\n",
    "        - Patch size\r\n",
    "        - Number of K folds\r\n",
    "        - Learning rates\r\n",
    "        - OACC\r\n",
    "        - ACC\r\n",
    "        - SEN\r\n",
    "        - SPE\r\n",
    "        - PRECISSION\r\n",
    "        - CONFUSION MATRIX\r\n",
    "        - Patients used to classify\r\n",
    "        - Predicted GT classification map\r\n",
    "        - Predicted and true GT classification maps\r\n",
    "        - Model loss and accuracy by epoch\r\n",
    "        - Time loading arguments\r\n",
    "        - Time preparing train data\r\n",
    "        - Time training CNN\r\n",
    "        - Time preparing test data\r\n",
    "        - Time predicting GT test image\r\n",
    "        - Time generating classification maps\r\n",
    "        \"\"\"\r\n",
    "\r\n",
    "    "
   ]
  }
 ],
 "metadata": {
  "interpreter": {
   "hash": "2f8e7f234165e2952df9dbfc489e836223a0dce84478ffe92e6b1e6e49bd3a71"
  },
  "kernelspec": {
   "display_name": "Python 3.8.10 64-bit",
   "name": "python3"
  },
  "language_info": {
   "codemirror_mode": {
    "name": "ipython",
    "version": 3
   },
   "file_extension": ".py",
   "mimetype": "text/x-python",
   "name": "python",
   "nbconvert_exporter": "python",
   "pygments_lexer": "ipython3",
   "version": "3.8.10"
  },
  "orig_nbformat": 4
 },
 "nbformat": 4,
 "nbformat_minor": 2
}